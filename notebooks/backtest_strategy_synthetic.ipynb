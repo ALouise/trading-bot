{
 "cells": [
  {
   "cell_type": "code",
   "execution_count": 1,
   "metadata": {},
   "outputs": [],
   "source": [
    "import sys\n",
    "import os\n",
    "project_root = os.path.abspath(os.path.join(os.getcwd(), \"..\"))\n",
    "if project_root not in sys.path:\n",
    "    sys.path.insert(0, project_root)\n",
    "from src.signal.signals_backtest import load_data, signals_sma_x, signals_sma_x_filtered, signals_sma_x_profit_filtered\n",
    "from src.utils.plots import plot_signals, plot_signals_alternatives_buy_sell"
   ]
  },
  {
   "cell_type": "code",
   "execution_count": 7,
   "metadata": {},
   "outputs": [],
   "source": [
    "filepath = os.path.join(project_root, \"data\", \"intraday_history\", \"MC.PA\", \"2025-06-17.csv\")\n",
    "df = load_data(filepath)"
   ]
  },
  {
   "cell_type": "markdown",
   "metadata": {},
   "source": [
    "1. Strat 1 : BUY if SMA x prices < latest price, SELL if SMA  x prices days > latest price"
   ]
  },
  {
   "cell_type": "code",
   "execution_count": null,
   "metadata": {},
   "outputs": [],
   "source": [
    "df_strat1 = signals_sma_x(df, 3)\n",
    "plot_signals(df_strat1, ticker=\"MC.PA\")"
   ]
  },
  {
   "cell_type": "markdown",
   "metadata": {},
   "source": [
    "2. Strat 2 : BUY if SMA x prices < latest price AND if fist buy after sell, SELL if SMA x prices > latest price and if first sell after buy"
   ]
  },
  {
   "cell_type": "code",
   "execution_count": null,
   "metadata": {},
   "outputs": [],
   "source": [
    "df_strat2 = signals_sma_x_filtered(df, 3)\n",
    "plot_signals_alternatives_buy_sell(df_strat2, ticker=\"MC.PA\")"
   ]
  },
  {
   "cell_type": "markdown",
   "metadata": {},
   "source": [
    "3. Strat 3: BUY if sma price on x prices > latest price AND if latest sell > latest price, SELL  if sma price on x prices < latest price AND if latest buy < latest price"
   ]
  },
  {
   "cell_type": "code",
   "execution_count": null,
   "metadata": {},
   "outputs": [],
   "source": [
    "df_strat3 = signals_sma_x_profit_filtered(df, 3)\n",
    "plot_signals_alternatives_buy_sell(df_strat3, ticker=\"MC.PA\")"
   ]
  }
 ],
 "metadata": {
  "kernelspec": {
   "display_name": "Python 3",
   "language": "python",
   "name": "python3"
  },
  "language_info": {
   "codemirror_mode": {
    "name": "ipython",
    "version": 3
   },
   "file_extension": ".py",
   "mimetype": "text/x-python",
   "name": "python",
   "nbconvert_exporter": "python",
   "pygments_lexer": "ipython3",
   "version": "3.13.3"
  }
 },
 "nbformat": 4,
 "nbformat_minor": 2
}
